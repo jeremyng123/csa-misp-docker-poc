{
 "cells": [
  {
   "cell_type": "code",
   "execution_count": 1,
   "metadata": {},
   "outputs": [
    {
     "name": "stdout",
     "output_type": "stream",
     "text": [
      "\n",
      "Loaded `misp_url`, `misp_key`, and `misp_verifycert`:\n",
      "    `misp_url`: https://localmisp.com\n",
      "    `misp_key`: 6DRpVArWkySCKuII4GfzdwAXJ1ykID5Iovw2Lf6r\n",
      "    `misp_verifycert`: True\n",
      "\n"
     ]
    },
    {
     "name": "stderr",
     "output_type": "stream",
     "text": [
      "c:\\Users\\ngyzj\\Documents\\ma\\assignments\\misp-docker-official\\misp-scripts\\env\\Lib\\site-packages\\urllib3\\connectionpool.py:1099: InsecureRequestWarning: Unverified HTTPS request is being made to host 'localmisp.com'. Adding certificate verification is strongly advised. See: https://urllib3.readthedocs.io/en/latest/advanced-usage.html#tls-warnings\n",
      "  warnings.warn(\n",
      "c:\\Users\\ngyzj\\Documents\\ma\\assignments\\misp-docker-official\\misp-scripts\\env\\Lib\\site-packages\\urllib3\\connectionpool.py:1099: InsecureRequestWarning: Unverified HTTPS request is being made to host 'localmisp.com'. Adding certificate verification is strongly advised. See: https://urllib3.readthedocs.io/en/latest/advanced-usage.html#tls-warnings\n",
      "  warnings.warn(\n",
      "c:\\Users\\ngyzj\\Documents\\ma\\assignments\\misp-docker-official\\misp-scripts\\env\\Lib\\site-packages\\urllib3\\connectionpool.py:1099: InsecureRequestWarning: Unverified HTTPS request is being made to host 'localmisp.com'. Adding certificate verification is strongly advised. See: https://urllib3.readthedocs.io/en/latest/advanced-usage.html#tls-warnings\n",
      "  warnings.warn(\n"
     ]
    }
   ],
   "source": [
    "# import dependencies\n",
    "from keys import misp_url, misp_key, misp_verifycert\n",
    "from pymisp import PyMISP, MISPUser\n",
    "from collections.abc import Sequence\n",
    "\n",
    "# Authentication\n",
    "misp = PyMISP(url=misp_url, key=misp_key, ssl=False, cert='')"
   ]
  },
  {
   "cell_type": "markdown",
   "metadata": {},
   "source": [
    "See [here](https://stackoverflow.com/questions/58119823/jupyter-notebooks-in-visual-studio-code-does-not-use-the-active-virtual-environm) to understand how to load python environments to ipynb"
   ]
  },
  {
   "cell_type": "code",
   "execution_count": 2,
   "metadata": {},
   "outputs": [],
   "source": [
    "## HELPER FUNCTIONS\n",
    "class mapped_roles:\n",
    "    # misp.roles()\n",
    "    \"\"\"\n",
    "    ROLES ids  \n",
    "    1   admin  \n",
    "    2   Org Admin  \n",
    "    3   User  \n",
    "    4   Publisher  \n",
    "    5   Sync user  \n",
    "    6   Read Only  \n",
    "    \"\"\"\n",
    "\n",
    "    admin=1\n",
    "    org_admin=2\n",
    "    user=3\n",
    "    publisher=4\n",
    "    sync_user=5\n",
    "    read_only=6\n",
    "    \n",
    "\n",
    "def add_user(\n",
    "    misp: type[PyMISP],\n",
    "    email: str,\n",
    "    password: str,\n",
    "    org_id: str = \"19520dfb-4335-4b50-b111-fb98e356b246\",\n",
    "    role_id: int = mapped_roles.user,\n",
    "    change_pw: str = 0,\n",
    "    termsaccepted: bool = True\n",
    "):\n",
    "    \"\"\"Add a user to organization (org_id)\n",
    "\n",
    "    Args:\n",
    "        misp (type[PyMISP])\n",
    "        email (str): _email of the user to be added_\n",
    "        org_id (str, optional): _ID of the Organization that we are interested in._ Defaults to \"19520dfb-4335-4b50-b111-fb98e356b246\".\n",
    "        role_id (int, optional): _use misp.roles() to get the ID of all the roles in the MISP._ Defaults to mapped_roles.user.\n",
    "        change_pw (str, optional): _if the User that logs in needs to change password._ Defaults to \"0\" --> no need to change pw  \n",
    "            Use \"1\" for production!\n",
    "        termsaccepted (bool, optional): _the User needs to accept the terms and conditions used for using MISP._ Defaults to True --> User do not need to read/accept the terms\n",
    "            Use False for production!\n",
    "    \"\"\"\n",
    "    user = MISPUser()\n",
    "    user.email = email\n",
    "    user.password = password\n",
    "    user.org_id = org_id\n",
    "    user.role_id = role_id\n",
    "    user.change_pw = change_pw\n",
    "    user.termsaccepted = termsaccepted\n",
    "\n",
    "    print(misp.add_user(user, pythonify=True))\n",
    "\n",
    "\n",
    "def del_user(misp:type[PyMISP], user_id:str):\n",
    "    \"\"\"Deletes the user with user_id\n",
    "\n",
    "    Args:\n",
    "        misp (type[PyMISP])\n",
    "        user_id (str): _ID of the User that we want to delete_\n",
    "    \"\"\"\n",
    "    print(misp.delete_user(user_id))\n",
    "\n",
    "\n",
    "def user_list(misp:type[PyMISP]):\n",
    "    \"\"\"Gets all users in the organization of the user (authkey authenticated)\n",
    "\n",
    "    Args:\n",
    "        misp (type[PyMISP])\n",
    "    \"\"\"\n",
    "    users = misp.users(pythonify=True)\n",
    "    return users\n",
    "\n",
    "\n",
    "\n",
    "# print(add_user(misp, \"user1@csa.gov.sg\"))"
   ]
  },
  {
   "cell_type": "code",
   "execution_count": 19,
   "metadata": {},
   "outputs": [],
   "source": [
    "class NCIRC_DEMO:\n",
    "    def __init__(self, size:int=60):\n",
    "        \"\"\"creating a class to manage NCIRC users\n",
    "\n",
    "        Args:\n",
    "            misp (type[PyMISP])\n",
    "            size (int, optional): _how many users to create_. Defaults to 60.\n",
    "\n",
    "        \"\"\"\n",
    "        pass\n",
    "    def create_users_for_demo(self, misp:type[PyMISP]):\n",
    "        # user = user[00-99]@csa.gov.sg\n",
    "        for i in range(10, 100):\n",
    "            email = f\"user{str(i).rjust(2, '0')}@csa.gov.sg\"\n",
    "            password = f\"mystrongpassword{str(i).rjust(2, '0')}\"\n",
    "            add_user(misp,email,password)\n",
    "\n",
    "# create_users_for_demo(misp)\n",
    "\n",
    "\n",
    "def delete_users_for_demo(misp:type[PyMISP]):\n",
    "    users = user_list(misp)\n",
    "    for i, user in enumerate(users):\n",
    "        if \"user\" in user.email:\n",
    "            del_user(misp, user.id)\n"
   ]
  },
  {
   "cell_type": "code",
   "execution_count": null,
   "metadata": {},
   "outputs": [],
   "source": [
    "delete_users_for_demo(misp)"
   ]
  }
 ],
 "metadata": {
  "kernelspec": {
   "display_name": "env",
   "language": "python",
   "name": "python3"
  },
  "language_info": {
   "codemirror_mode": {
    "name": "ipython",
    "version": 3
   },
   "file_extension": ".py",
   "mimetype": "text/x-python",
   "name": "python",
   "nbconvert_exporter": "python",
   "pygments_lexer": "ipython3",
   "version": "3.12.1"
  }
 },
 "nbformat": 4,
 "nbformat_minor": 2
}
